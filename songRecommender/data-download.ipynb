{
 "cells": [
  {
   "cell_type": "code",
   "execution_count": 2,
   "metadata": {},
   "outputs": [
    {
     "name": "stderr",
     "output_type": "stream",
     "text": [
      "C:\\Users\\urvas\\AppData\\Local\\Temp\\ipykernel_9680\\4276868877.py:4: DeprecationWarning: Importing clear_output from IPython.core.display is deprecated since IPython 7.14, please import from IPython display\n",
      "  from IPython.core.display import clear_output\n"
     ]
    }
   ],
   "source": [
    "from  helpers import *\n",
    "import spotipy\n",
    "from spotipy import SpotifyClientCredentials, util\n",
    "from IPython.core.display import clear_output\n",
    "\n",
    "import pandas as pd \n",
    "import pandasql as ps \n",
    "import time\n",
    "import sqlite3\n"
   ]
  },
  {
   "cell_type": "code",
   "execution_count": 5,
   "metadata": {
    "tags": []
   },
   "outputs": [
    {
     "name": "stderr",
     "output_type": "stream",
     "text": [
      "HTTP Error for GET to https://api.spotify.com/v1/playlists/54ZAfe0fx3qhkbs8xcOlUa/tracks with Params: {'limit': 100, 'offset': 0, 'fields': None, 'market': None, 'additional_types': 'track'} returned 403 due to User not registered in the Developer Dashboard\n"
     ]
    },
    {
     "ename": "UnboundLocalError",
     "evalue": "cannot access local variable 'columns' where it is not associated with a value",
     "output_type": "error",
     "traceback": [
      "\u001b[1;31m---------------------------------------------------------------------------\u001b[0m",
      "\u001b[1;31mHTTPError\u001b[0m                                 Traceback (most recent call last)",
      "File \u001b[1;32mc:\\Users\\urvas\\AppData\\Local\\Programs\\Python\\Python311\\Lib\\site-packages\\spotipy\\client.py:271\u001b[0m, in \u001b[0;36mSpotify._internal_call\u001b[1;34m(self, method, url, payload, params)\u001b[0m\n\u001b[0;32m    266\u001b[0m response \u001b[39m=\u001b[39m \u001b[39mself\u001b[39m\u001b[39m.\u001b[39m_session\u001b[39m.\u001b[39mrequest(\n\u001b[0;32m    267\u001b[0m     method, url, headers\u001b[39m=\u001b[39mheaders, proxies\u001b[39m=\u001b[39m\u001b[39mself\u001b[39m\u001b[39m.\u001b[39mproxies,\n\u001b[0;32m    268\u001b[0m     timeout\u001b[39m=\u001b[39m\u001b[39mself\u001b[39m\u001b[39m.\u001b[39mrequests_timeout, \u001b[39m*\u001b[39m\u001b[39m*\u001b[39margs\n\u001b[0;32m    269\u001b[0m )\n\u001b[1;32m--> 271\u001b[0m response\u001b[39m.\u001b[39;49mraise_for_status()\n\u001b[0;32m    272\u001b[0m results \u001b[39m=\u001b[39m response\u001b[39m.\u001b[39mjson()\n",
      "File \u001b[1;32mc:\\Users\\urvas\\AppData\\Local\\Programs\\Python\\Python311\\Lib\\site-packages\\requests\\models.py:1021\u001b[0m, in \u001b[0;36mResponse.raise_for_status\u001b[1;34m(self)\u001b[0m\n\u001b[0;32m   1020\u001b[0m \u001b[39mif\u001b[39;00m http_error_msg:\n\u001b[1;32m-> 1021\u001b[0m     \u001b[39mraise\u001b[39;00m HTTPError(http_error_msg, response\u001b[39m=\u001b[39m\u001b[39mself\u001b[39m)\n",
      "\u001b[1;31mHTTPError\u001b[0m: 403 Client Error: Forbidden for url: https://api.spotify.com/v1/playlists/54ZAfe0fx3qhkbs8xcOlUa/tracks?limit=100&offset=0&additional_types=track",
      "\nDuring handling of the above exception, another exception occurred:\n",
      "\u001b[1;31mSpotifyException\u001b[0m                          Traceback (most recent call last)",
      "File \u001b[1;32mc:\\Users\\urvas\\OneDrive\\Desktop\\Arithemania-2.0\\songRecommender\\helpers.py:101\u001b[0m, in \u001b[0;36mdownload_playlist\u001b[1;34m(id_playlist, n_songs)\u001b[0m\n\u001b[0;32m    100\u001b[0m \u001b[39mfor\u001b[39;00m i \u001b[39min\u001b[39;00m \u001b[39mrange\u001b[39m(\u001b[39m0\u001b[39m,n_songs,\u001b[39m100\u001b[39m):\n\u001b[1;32m--> 101\u001b[0m     playlist \u001b[39m=\u001b[39m sp\u001b[39m.\u001b[39;49mplaylist_tracks(id_playlist,limit\u001b[39m=\u001b[39;49m\u001b[39m100\u001b[39;49m,offset\u001b[39m=\u001b[39;49mi)\n\u001b[0;32m    103\u001b[0m     \u001b[39mfor\u001b[39;00m songs \u001b[39min\u001b[39;00m playlist[\u001b[39m'\u001b[39m\u001b[39mitems\u001b[39m\u001b[39m'\u001b[39m]:\n",
      "File \u001b[1;32mc:\\Users\\urvas\\AppData\\Local\\Programs\\Python\\Python311\\Lib\\site-packages\\spotipy\\client.py:683\u001b[0m, in \u001b[0;36mSpotify.playlist_tracks\u001b[1;34m(self, playlist_id, fields, limit, offset, market, additional_types)\u001b[0m\n\u001b[0;32m    678\u001b[0m warnings\u001b[39m.\u001b[39mwarn(\n\u001b[0;32m    679\u001b[0m     \u001b[39m\"\u001b[39m\u001b[39mYou should use `playlist_items(playlist_id, ...,\u001b[39m\u001b[39m\"\u001b[39m\n\u001b[0;32m    680\u001b[0m     \u001b[39m\"\u001b[39m\u001b[39madditional_types=(\u001b[39m\u001b[39m'\u001b[39m\u001b[39mtrack\u001b[39m\u001b[39m'\u001b[39m\u001b[39m,))` instead\u001b[39m\u001b[39m\"\u001b[39m,\n\u001b[0;32m    681\u001b[0m     \u001b[39mDeprecationWarning\u001b[39;00m,\n\u001b[0;32m    682\u001b[0m )\n\u001b[1;32m--> 683\u001b[0m \u001b[39mreturn\u001b[39;00m \u001b[39mself\u001b[39;49m\u001b[39m.\u001b[39;49mplaylist_items(playlist_id, fields, limit, offset,\n\u001b[0;32m    684\u001b[0m                            market, additional_types)\n",
      "File \u001b[1;32mc:\\Users\\urvas\\AppData\\Local\\Programs\\Python\\Python311\\Lib\\site-packages\\spotipy\\client.py:707\u001b[0m, in \u001b[0;36mSpotify.playlist_items\u001b[1;34m(self, playlist_id, fields, limit, offset, market, additional_types)\u001b[0m\n\u001b[0;32m    706\u001b[0m plid \u001b[39m=\u001b[39m \u001b[39mself\u001b[39m\u001b[39m.\u001b[39m_get_id(\u001b[39m\"\u001b[39m\u001b[39mplaylist\u001b[39m\u001b[39m\"\u001b[39m, playlist_id)\n\u001b[1;32m--> 707\u001b[0m \u001b[39mreturn\u001b[39;00m \u001b[39mself\u001b[39;49m\u001b[39m.\u001b[39;49m_get(\n\u001b[0;32m    708\u001b[0m     \u001b[39m\"\u001b[39;49m\u001b[39mplaylists/\u001b[39;49m\u001b[39m%s\u001b[39;49;00m\u001b[39m/tracks\u001b[39;49m\u001b[39m\"\u001b[39;49m \u001b[39m%\u001b[39;49m (plid),\n\u001b[0;32m    709\u001b[0m     limit\u001b[39m=\u001b[39;49mlimit,\n\u001b[0;32m    710\u001b[0m     offset\u001b[39m=\u001b[39;49moffset,\n\u001b[0;32m    711\u001b[0m     fields\u001b[39m=\u001b[39;49mfields,\n\u001b[0;32m    712\u001b[0m     market\u001b[39m=\u001b[39;49mmarket,\n\u001b[0;32m    713\u001b[0m     additional_types\u001b[39m=\u001b[39;49m\u001b[39m\"\u001b[39;49m\u001b[39m,\u001b[39;49m\u001b[39m\"\u001b[39;49m\u001b[39m.\u001b[39;49mjoin(additional_types)\n\u001b[0;32m    714\u001b[0m )\n",
      "File \u001b[1;32mc:\\Users\\urvas\\AppData\\Local\\Programs\\Python\\Python311\\Lib\\site-packages\\spotipy\\client.py:323\u001b[0m, in \u001b[0;36mSpotify._get\u001b[1;34m(self, url, args, payload, **kwargs)\u001b[0m\n\u001b[0;32m    321\u001b[0m     kwargs\u001b[39m.\u001b[39mupdate(args)\n\u001b[1;32m--> 323\u001b[0m \u001b[39mreturn\u001b[39;00m \u001b[39mself\u001b[39;49m\u001b[39m.\u001b[39;49m_internal_call(\u001b[39m\"\u001b[39;49m\u001b[39mGET\u001b[39;49m\u001b[39m\"\u001b[39;49m, url, payload, kwargs)\n",
      "File \u001b[1;32mc:\\Users\\urvas\\AppData\\Local\\Programs\\Python\\Python311\\Lib\\site-packages\\spotipy\\client.py:293\u001b[0m, in \u001b[0;36mSpotify._internal_call\u001b[1;34m(self, method, url, payload, params)\u001b[0m\n\u001b[0;32m    288\u001b[0m     logger\u001b[39m.\u001b[39merror(\n\u001b[0;32m    289\u001b[0m         \u001b[39m'\u001b[39m\u001b[39mHTTP Error for \u001b[39m\u001b[39m%s\u001b[39;00m\u001b[39m to \u001b[39m\u001b[39m%s\u001b[39;00m\u001b[39m with Params: \u001b[39m\u001b[39m%s\u001b[39;00m\u001b[39m returned \u001b[39m\u001b[39m%s\u001b[39;00m\u001b[39m due to \u001b[39m\u001b[39m%s\u001b[39;00m\u001b[39m'\u001b[39m,\n\u001b[0;32m    290\u001b[0m         method, url, args\u001b[39m.\u001b[39mget(\u001b[39m\"\u001b[39m\u001b[39mparams\u001b[39m\u001b[39m\"\u001b[39m), response\u001b[39m.\u001b[39mstatus_code, msg\n\u001b[0;32m    291\u001b[0m     )\n\u001b[1;32m--> 293\u001b[0m     \u001b[39mraise\u001b[39;00m SpotifyException(\n\u001b[0;32m    294\u001b[0m         response\u001b[39m.\u001b[39mstatus_code,\n\u001b[0;32m    295\u001b[0m         \u001b[39m-\u001b[39m\u001b[39m1\u001b[39m,\n\u001b[0;32m    296\u001b[0m         \u001b[39m\"\u001b[39m\u001b[39m%s\u001b[39;00m\u001b[39m:\u001b[39m\u001b[39m\\n\u001b[39;00m\u001b[39m \u001b[39m\u001b[39m%s\u001b[39;00m\u001b[39m\"\u001b[39m \u001b[39m%\u001b[39m (response\u001b[39m.\u001b[39murl, msg),\n\u001b[0;32m    297\u001b[0m         reason\u001b[39m=\u001b[39mreason,\n\u001b[0;32m    298\u001b[0m         headers\u001b[39m=\u001b[39mresponse\u001b[39m.\u001b[39mheaders,\n\u001b[0;32m    299\u001b[0m     )\n\u001b[0;32m    300\u001b[0m \u001b[39mexcept\u001b[39;00m requests\u001b[39m.\u001b[39mexceptions\u001b[39m.\u001b[39mRetryError \u001b[39mas\u001b[39;00m retry_error:\n",
      "\u001b[1;31mSpotifyException\u001b[0m: http status: 403, code:-1 - https://api.spotify.com/v1/playlists/54ZAfe0fx3qhkbs8xcOlUa/tracks?limit=100&offset=0&additional_types=track:\n User not registered in the Developer Dashboard, reason: None",
      "\nDuring handling of the above exception, another exception occurred:\n",
      "\u001b[1;31mUnboundLocalError\u001b[0m                         Traceback (most recent call last)",
      "Cell \u001b[1;32mIn[5], line 1\u001b[0m\n\u001b[1;32m----> 1\u001b[0m tracks,columns \u001b[39m=\u001b[39m download_playlist(\u001b[39m'\u001b[39;49m\u001b[39m54ZAfe0fx3qhkbs8xcOlUa\u001b[39;49m\u001b[39m'\u001b[39;49m,\u001b[39m5\u001b[39;49m)\n\u001b[0;32m      2\u001b[0m \u001b[39m#If the id if for artist, you must to put specify True to the artist parameter\u001b[39;00m\n\u001b[0;32m      3\u001b[0m tracks,columns \u001b[39m=\u001b[39m download_albums(\u001b[39m'\u001b[39m\u001b[39m5cj0lLjcoR7YOSnhnX0Po5\u001b[39m\u001b[39m'\u001b[39m,artist\u001b[39m=\u001b[39m\u001b[39mTrue\u001b[39;00m)\n",
      "File \u001b[1;32mc:\\Users\\urvas\\OneDrive\\Desktop\\Arithemania-2.0\\songRecommender\\helpers.py:118\u001b[0m, in \u001b[0;36mdownload_playlist\u001b[1;34m(id_playlist, n_songs)\u001b[0m\n\u001b[0;32m    116\u001b[0m     \u001b[39mreturn\u001b[39;00m tracks,columns\n\u001b[0;32m    117\u001b[0m \u001b[39mexcept\u001b[39;00m:\n\u001b[1;32m--> 118\u001b[0m     \u001b[39mreturn\u001b[39;00m tracks,columns\n",
      "\u001b[1;31mUnboundLocalError\u001b[0m: cannot access local variable 'columns' where it is not associated with a value"
     ]
    }
   ],
   "source": [
    "tracks,columns = download_playlist('54ZAfe0fx3qhkbs8xcOlUa',5)\n",
    "#If the id if for artist, you must to put specify True to the artist parameter\n",
    "tracks,columns = download_albums('5cj0lLjcoR7YOSnhnX0Po5',artist=True)\n",
    "df1 = pd.DataFrame(tracks,columns=columns)\n",
    "df1.head()"
   ]
  },
  {
   "cell_type": "code",
   "execution_count": null,
   "metadata": {
    "tags": []
   },
   "outputs": [],
   "source": [
    "df1.to_csv('df2.csv',index=False)"
   ]
  }
 ],
 "metadata": {
  "kernelspec": {
   "display_name": "Python 3",
   "language": "python",
   "name": "python3"
  },
  "language_info": {
   "codemirror_mode": {
    "name": "ipython",
    "version": 3
   },
   "file_extension": ".py",
   "mimetype": "text/x-python",
   "name": "python",
   "nbconvert_exporter": "python",
   "pygments_lexer": "ipython3",
   "version": "3.11.2"
  },
  "orig_nbformat": 2
 },
 "nbformat": 4,
 "nbformat_minor": 2
}
